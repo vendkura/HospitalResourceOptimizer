{
 "cells": [
  {
   "cell_type": "markdown",
   "metadata": {},
   "source": [
    "# Preparation des donnees pour la modelisation"
   ]
  },
  {
   "cell_type": "code",
   "execution_count": 15,
   "metadata": {},
   "outputs": [
    {
     "name": "stdout",
     "output_type": "stream",
     "text": [
      "Taille initiale du dataset : (15757, 60)\n"
     ]
    }
   ],
   "source": [
    "import pandas as pd\n",
    "from sklearn.model_selection import train_test_split\n",
    "from sklearn.preprocessing import MinMaxScaler\n",
    "\n",
    "# Charger le dataset filtré précédent\n",
    "file_path = \"./Dataset/cleaned_HDHI_Admission_data.csv\"  # Chemin du fichier nettoyé\n",
    "data = pd.read_csv(file_path)\n",
    "\n",
    "print(f\"Taille initiale du dataset : {data.shape}\")\n"
   ]
  },
  {
   "cell_type": "code",
   "execution_count": 16,
   "metadata": {},
   "outputs": [],
   "source": [
    "# Choix des colonnes qui nous serviront de features pour la prédiction\n",
    "selected_columns = ['AGE', 'TYPE OF ADMISSION-EMERGENCY/OPD','STAY_DURATION', 'ADMISSION_MONTH','ADMISSION_SEASON', 'GENDER']\n",
    "data = data[selected_columns]\n",
    "# data.columns"
   ]
  },
  {
   "cell_type": "code",
   "execution_count": 17,
   "metadata": {},
   "outputs": [
    {
     "name": "stdout",
     "output_type": "stream",
     "text": [
      "Taille du dataset après suppression des valeurs manquantes : (8632, 6)\n"
     ]
    }
   ],
   "source": [
    "# Gestion des valeurs manquantes\n",
    "# Supression des lignes avec des valeurs manquantes\n",
    "data = data.dropna(subset=['AGE', 'STAY_DURATION', 'ADMISSION_MONTH', 'GENDER'])\n",
    "\n",
    "print(f\"Taille du dataset après suppression des valeurs manquantes : {data.shape}\")"
   ]
  },
  {
   "cell_type": "code",
   "execution_count": 18,
   "metadata": {},
   "outputs": [
    {
     "data": {
      "text/html": [
       "<div>\n",
       "<style scoped>\n",
       "    .dataframe tbody tr th:only-of-type {\n",
       "        vertical-align: middle;\n",
       "    }\n",
       "\n",
       "    .dataframe tbody tr th {\n",
       "        vertical-align: top;\n",
       "    }\n",
       "\n",
       "    .dataframe thead th {\n",
       "        text-align: right;\n",
       "    }\n",
       "</style>\n",
       "<table border=\"1\" class=\"dataframe\">\n",
       "  <thead>\n",
       "    <tr style=\"text-align: right;\">\n",
       "      <th></th>\n",
       "      <th>AGE</th>\n",
       "      <th>TYPE OF ADMISSION-EMERGENCY/OPD</th>\n",
       "      <th>STAY_DURATION</th>\n",
       "      <th>ADMISSION_MONTH</th>\n",
       "      <th>ADMISSION_SEASON</th>\n",
       "      <th>GENDER</th>\n",
       "    </tr>\n",
       "  </thead>\n",
       "  <tbody>\n",
       "    <tr>\n",
       "      <th>0</th>\n",
       "      <td>81</td>\n",
       "      <td>0</td>\n",
       "      <td>2.0</td>\n",
       "      <td>4.0</td>\n",
       "      <td>2.0</td>\n",
       "      <td>0</td>\n",
       "    </tr>\n",
       "    <tr>\n",
       "      <th>1</th>\n",
       "      <td>65</td>\n",
       "      <td>0</td>\n",
       "      <td>4.0</td>\n",
       "      <td>4.0</td>\n",
       "      <td>2.0</td>\n",
       "      <td>0</td>\n",
       "    </tr>\n",
       "    <tr>\n",
       "      <th>2</th>\n",
       "      <td>53</td>\n",
       "      <td>0</td>\n",
       "      <td>2.0</td>\n",
       "      <td>4.0</td>\n",
       "      <td>2.0</td>\n",
       "      <td>0</td>\n",
       "    </tr>\n",
       "    <tr>\n",
       "      <th>3</th>\n",
       "      <td>67</td>\n",
       "      <td>0</td>\n",
       "      <td>7.0</td>\n",
       "      <td>4.0</td>\n",
       "      <td>2.0</td>\n",
       "      <td>1</td>\n",
       "    </tr>\n",
       "    <tr>\n",
       "      <th>4</th>\n",
       "      <td>60</td>\n",
       "      <td>0</td>\n",
       "      <td>22.0</td>\n",
       "      <td>4.0</td>\n",
       "      <td>2.0</td>\n",
       "      <td>1</td>\n",
       "    </tr>\n",
       "  </tbody>\n",
       "</table>\n",
       "</div>"
      ],
      "text/plain": [
       "   AGE  TYPE OF ADMISSION-EMERGENCY/OPD  STAY_DURATION  ADMISSION_MONTH  \\\n",
       "0   81                                0            2.0              4.0   \n",
       "1   65                                0            4.0              4.0   \n",
       "2   53                                0            2.0              4.0   \n",
       "3   67                                0            7.0              4.0   \n",
       "4   60                                0           22.0              4.0   \n",
       "\n",
       "   ADMISSION_SEASON  GENDER  \n",
       "0               2.0       0  \n",
       "1               2.0       0  \n",
       "2               2.0       0  \n",
       "3               2.0       1  \n",
       "4               2.0       1  "
      ]
     },
     "execution_count": 18,
     "metadata": {},
     "output_type": "execute_result"
    }
   ],
   "source": [
    "# Encodage des variables catégoriques dont dans notre cas, GENDER, TYPE OF ADMISSION-EMERGENCY/OPD\n",
    "data['GENDER'] = data['GENDER'].map({'M':0, 'F':1})\n",
    "data['TYPE OF ADMISSION-EMERGENCY/OPD'] = data['TYPE OF ADMISSION-EMERGENCY/OPD'].map({'E':0,'O':1}) \n",
    "\n",
    "data.head()"
   ]
  },
  {
   "cell_type": "markdown",
   "metadata": {},
   "source": []
  },
  {
   "cell_type": "code",
   "execution_count": 19,
   "metadata": {},
   "outputs": [
    {
     "data": {
      "text/html": [
       "<div>\n",
       "<style scoped>\n",
       "    .dataframe tbody tr th:only-of-type {\n",
       "        vertical-align: middle;\n",
       "    }\n",
       "\n",
       "    .dataframe tbody tr th {\n",
       "        vertical-align: top;\n",
       "    }\n",
       "\n",
       "    .dataframe thead th {\n",
       "        text-align: right;\n",
       "    }\n",
       "</style>\n",
       "<table border=\"1\" class=\"dataframe\">\n",
       "  <thead>\n",
       "    <tr style=\"text-align: right;\">\n",
       "      <th></th>\n",
       "      <th>AGE</th>\n",
       "      <th>TYPE OF ADMISSION-EMERGENCY/OPD</th>\n",
       "      <th>STAY_DURATION</th>\n",
       "      <th>ADMISSION_MONTH</th>\n",
       "      <th>ADMISSION_SEASON</th>\n",
       "      <th>GENDER</th>\n",
       "    </tr>\n",
       "  </thead>\n",
       "  <tbody>\n",
       "    <tr>\n",
       "      <th>0</th>\n",
       "      <td>0.819149</td>\n",
       "      <td>0</td>\n",
       "      <td>2.0</td>\n",
       "      <td>0.272727</td>\n",
       "      <td>2.0</td>\n",
       "      <td>0</td>\n",
       "    </tr>\n",
       "    <tr>\n",
       "      <th>1</th>\n",
       "      <td>0.648936</td>\n",
       "      <td>0</td>\n",
       "      <td>4.0</td>\n",
       "      <td>0.272727</td>\n",
       "      <td>2.0</td>\n",
       "      <td>0</td>\n",
       "    </tr>\n",
       "    <tr>\n",
       "      <th>2</th>\n",
       "      <td>0.521277</td>\n",
       "      <td>0</td>\n",
       "      <td>2.0</td>\n",
       "      <td>0.272727</td>\n",
       "      <td>2.0</td>\n",
       "      <td>0</td>\n",
       "    </tr>\n",
       "    <tr>\n",
       "      <th>3</th>\n",
       "      <td>0.670213</td>\n",
       "      <td>0</td>\n",
       "      <td>7.0</td>\n",
       "      <td>0.272727</td>\n",
       "      <td>2.0</td>\n",
       "      <td>1</td>\n",
       "    </tr>\n",
       "    <tr>\n",
       "      <th>4</th>\n",
       "      <td>0.595745</td>\n",
       "      <td>0</td>\n",
       "      <td>22.0</td>\n",
       "      <td>0.272727</td>\n",
       "      <td>2.0</td>\n",
       "      <td>1</td>\n",
       "    </tr>\n",
       "  </tbody>\n",
       "</table>\n",
       "</div>"
      ],
      "text/plain": [
       "        AGE  TYPE OF ADMISSION-EMERGENCY/OPD  STAY_DURATION  ADMISSION_MONTH  \\\n",
       "0  0.819149                                0            2.0         0.272727   \n",
       "1  0.648936                                0            4.0         0.272727   \n",
       "2  0.521277                                0            2.0         0.272727   \n",
       "3  0.670213                                0            7.0         0.272727   \n",
       "4  0.595745                                0           22.0         0.272727   \n",
       "\n",
       "   ADMISSION_SEASON  GENDER  \n",
       "0               2.0       0  \n",
       "1               2.0       0  \n",
       "2               2.0       0  \n",
       "3               2.0       1  \n",
       "4               2.0       1  "
      ]
     },
     "execution_count": 19,
     "metadata": {},
     "output_type": "execute_result"
    }
   ],
   "source": [
    "# Normalisation des valeurs numeriques, nous allons mettre la valeur de chacune des colonnes ayant des valeurs numeriques dans  un range entre [0,1] en utilisant MinMaxScaler.\n",
    "\n",
    "scaler = MinMaxScaler()\n",
    "data[['AGE', 'ADMISSION_MONTH']] = scaler.fit_transform(data[['AGE', 'ADMISSION_MONTH']])\n",
    "\n",
    "data.head()"
   ]
  },
  {
   "cell_type": "code",
   "execution_count": 22,
   "metadata": {},
   "outputs": [
    {
     "name": "stdout",
     "output_type": "stream",
     "text": [
      "Ensembles sauvegardés :\n",
      "X_train : (6042, 5), X_test : (2590, 5)\n",
      "y_train : (6042,), y_test : (2590,)\n"
     ]
    }
   ],
   "source": [
    "# Division du dataset en features et target et sauvegarder ces donnees dans differents fichiers csv\n",
    "\n",
    "# Sepration de la colonne STAY_DURATION qui est notre target du reste du dataset qui est nos features\n",
    "x = data.drop('STAY_DURATION', axis=1)\n",
    "# Notre target est la colonne STAY_DURATION\n",
    "y = data['STAY_DURATION']\n",
    "\n",
    "# Division des donnees d'entrainement et des donnees de test. \n",
    "# les donnees de test prendront 30% des donnees et les donnees d'entrainement prendront 70% des donnees\n",
    "x_train, x_test,y_train, y_test = train_test_split(x,y, test_size=0.3, random_state=42)\n",
    "\n",
    "# Sauvegarde des donnees dans des fichiers csv\n",
    "x_train.to_csv('./Dataset/training_set/x_train.csv', index=False)\n",
    "x_test.to_csv('./Dataset/testing_set/x_test.csv', index=False)\n",
    "y_train.to_csv('./Dataset/training_set/y_train.csv', index=False)\n",
    "y_test.to_csv('./Dataset/testing_set/y_test.csv', index=False)\n",
    "\n",
    "print(\"Ensembles sauvegardés :\")\n",
    "print(f\"X_train : {x_train.shape}, X_test : {x_test.shape}\")\n",
    "print(f\"y_train : {y_train.shape}, y_test : {y_test.shape}\")\n"
   ]
  },
  {
   "cell_type": "code",
   "execution_count": null,
   "metadata": {
    "vscode": {
     "languageId": "markdown"
    }
   },
   "outputs": [],
   "source": []
  }
 ],
 "metadata": {
  "kernelspec": {
   "display_name": "venv",
   "language": "python",
   "name": "python3"
  },
  "language_info": {
   "codemirror_mode": {
    "name": "ipython",
    "version": 3
   },
   "file_extension": ".py",
   "mimetype": "text/x-python",
   "name": "python",
   "nbconvert_exporter": "python",
   "pygments_lexer": "ipython3",
   "version": "3.11.2"
  }
 },
 "nbformat": 4,
 "nbformat_minor": 2
}
