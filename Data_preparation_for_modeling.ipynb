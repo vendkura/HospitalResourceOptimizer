{
 "cells": [
  {
   "cell_type": "markdown",
   "metadata": {},
   "source": [
    "# Preparation des donnees pour la modelisation"
   ]
  },
  {
   "cell_type": "code",
   "execution_count": 23,
   "metadata": {},
   "outputs": [
    {
     "name": "stdout",
     "output_type": "stream",
     "text": [
      "Taille initiale du dataset : (15757, 60)\n"
     ]
    }
   ],
   "source": [
    "import pandas as pd\n",
    "from sklearn.model_selection import train_test_split\n",
    "from sklearn.preprocessing import MinMaxScaler\n",
    "\n",
    "# Charger le dataset filtré précédent\n",
    "file_path = \"./Dataset/cleaned_HDHI_Admission_data.csv\"  # Chemin du fichier nettoyé\n",
    "data = pd.read_csv(file_path)\n",
    "\n",
    "print(f\"Taille initiale du dataset : {data.shape}\")\n"
   ]
  },
  {
   "cell_type": "code",
   "execution_count": 24,
   "metadata": {},
   "outputs": [],
   "source": [
    "# Choix des colonnes qui nous serviront de features pour la prédiction\n",
    "selected_columns = ['AGE', 'TYPE OF ADMISSION-EMERGENCY/OPD','STAY_DURATION', 'ADMISSION_MONTH','ADMISSION_SEASON', 'GENDER']\n",
    "data = data[selected_columns]\n",
    "# data.columns"
   ]
  },
  {
   "cell_type": "code",
   "execution_count": 25,
   "metadata": {},
   "outputs": [
    {
     "name": "stdout",
     "output_type": "stream",
     "text": [
      "Taille du dataset après suppression des valeurs manquantes : (7588, 6)\n"
     ]
    }
   ],
   "source": [
    "# Gestion des valeurs manquantes\n",
    "# Supression des lignes avec des valeurs manquantes\n",
    "data = data.dropna(subset=['AGE', 'STAY_DURATION', 'ADMISSION_MONTH', 'GENDER'])\n",
    "# Filtrer\n",
    "data = data[(data['STAY_DURATION'] >= 0) & (data['STAY_DURATION'] <= 98)]  # Durées valides\n",
    "data = data[(data['AGE'] > 0) & (data['AGE'] <= 110)]  # Âges valides\n",
    "\n",
    "\n",
    "print(f\"Taille du dataset après suppression des valeurs manquantes : {data.shape}\")\n",
    "\n",
    "# Sauvegarde des donnees filtrer dans un fichier\n",
    "cleaned_filtered_data_path =\"./Dataset/cleaned_dataset_for_modeling.csv\"\n",
    "data.to_csv(cleaned_filtered_data_path,index=False)"
   ]
  },
  {
   "cell_type": "code",
   "execution_count": 26,
   "metadata": {},
   "outputs": [],
   "source": [
    "# Recharger le dataset nettoyer et filtrer\n",
    "data = pd.read_csv(\"./Dataset/cleaned_dataset_for_modeling.csv\")\n",
    "\n",
    "# Encodage des variables catégoriques dont dans notre cas, GENDER, TYPE OF ADMISSION-EMERGENCY/OPD\n",
    "data['GENDER'] = data['GENDER'].map({'M':0, 'F':1})\n",
    "data['TYPE OF ADMISSION-EMERGENCY/OPD'] = data['TYPE OF ADMISSION-EMERGENCY/OPD'].map({'E':0,'O':1}) \n"
   ]
  },
  {
   "cell_type": "markdown",
   "metadata": {},
   "source": []
  },
  {
   "cell_type": "code",
   "execution_count": 27,
   "metadata": {},
   "outputs": [],
   "source": [
    "\n",
    "# Normalisation des valeurs numeriques, nous allons mettre la valeur de chacune des colonnes ayant des valeurs numeriques dans  un range entre [0,1] en utilisant MinMaxScaler.\n",
    "scaler = MinMaxScaler()\n",
    "data[['AGE', 'ADMISSION_MONTH']] = scaler.fit_transform(data[['AGE', 'ADMISSION_MONTH']])"
   ]
  },
  {
   "cell_type": "code",
   "execution_count": 28,
   "metadata": {},
   "outputs": [
    {
     "name": "stdout",
     "output_type": "stream",
     "text": [
      "Ensembles sauvegardés :\n",
      "X_train : (5311, 5), X_test : (2277, 5)\n",
      "y_train : (5311,), y_test : (2277,)\n"
     ]
    }
   ],
   "source": [
    "# Division du dataset en features et target et sauvegarder ces donnees dans differents fichiers csv\n",
    "\n",
    "# Sepration de la colonne STAY_DURATION qui est notre target du reste du dataset qui est nos features\n",
    "x = data.drop('STAY_DURATION', axis=1)\n",
    "# Notre target est la colonne STAY_DURATION\n",
    "y = data['STAY_DURATION']\n",
    "\n",
    "# Division des donnees d'entrainement et des donnees de test. \n",
    "# les donnees de test prendront 30% des donnees et les donnees d'entrainement prendront 70% des donnees\n",
    "x_train, x_test,y_train, y_test = train_test_split(x,y, test_size=0.3, random_state=42)\n",
    "\n",
    "# Sauvegarde des donnees dans des fichiers csv\n",
    "x_train.to_csv('./Dataset/training_set/x_train.csv', index=False)\n",
    "x_test.to_csv('./Dataset/testing_set/x_test.csv', index=False)\n",
    "y_train.to_csv('./Dataset/training_set/y_train.csv', index=False)\n",
    "y_test.to_csv('./Dataset/testing_set/y_test.csv', index=False)\n",
    "\n",
    "print(\"Ensembles sauvegardés :\")\n",
    "print(f\"X_train : {x_train.shape}, X_test : {x_test.shape}\")\n",
    "print(f\"y_train : {y_train.shape}, y_test : {y_test.shape}\")\n"
   ]
  },
  {
   "cell_type": "code",
   "execution_count": null,
   "metadata": {
    "vscode": {
     "languageId": "markdown"
    }
   },
   "outputs": [],
   "source": []
  },
  {
   "cell_type": "code",
   "execution_count": null,
   "metadata": {
    "vscode": {
     "languageId": "markdown"
    }
   },
   "outputs": [],
   "source": []
  }
 ],
 "metadata": {
  "kernelspec": {
   "display_name": "venv",
   "language": "python",
   "name": "python3"
  },
  "language_info": {
   "codemirror_mode": {
    "name": "ipython",
    "version": 3
   },
   "file_extension": ".py",
   "mimetype": "text/x-python",
   "name": "python",
   "nbconvert_exporter": "python",
   "pygments_lexer": "ipython3",
   "version": "3.11.2"
  }
 },
 "nbformat": 4,
 "nbformat_minor": 2
}
